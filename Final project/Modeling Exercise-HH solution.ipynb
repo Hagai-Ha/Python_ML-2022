{
 "cells": [
  {
   "cell_type": "code",
   "execution_count": 1,
   "id": "296c05b3-fb33-458f-a02c-9a34f3b2d981",
   "metadata": {},
   "outputs": [
    {
     "name": "stderr",
     "output_type": "stream",
     "text": [
      "Intel(R) Extension for Scikit-learn* enabled (https://github.com/intel/scikit-learn-intelex)\n"
     ]
    }
   ],
   "source": [
    "# raise ValueError\n",
    "from sklearnex import patch_sklearn\n",
    "patch_sklearn()"
   ]
  },
  {
   "cell_type": "markdown",
   "id": "05bb7c4c-452a-408f-ac26-b184f1e10862",
   "metadata": {},
   "source": [
    "# Modeling exercise"
   ]
  },
  {
   "cell_type": "markdown",
   "id": "38dbae80-7f28-4596-945e-a0784e384e4c",
   "metadata": {},
   "source": [
    "## General Instructions"
   ]
  },
  {
   "cell_type": "markdown",
   "id": "a5650156-42a5-4fb7-b74a-dec08bafd6c1",
   "metadata": {},
   "source": [
    "* Submission date: 25.4.2022\n",
    "* Submission Method: Link to your solution notebook in [this sheet](https://docs.google.com/spreadsheets/d/1fTmjiVxzw_rM1hdh16enwUTtxzlHSJIiw41dJS2LKp0/edit?usp=sharing)."
   ]
  },
  {
   "cell_type": "code",
   "execution_count": 2,
   "id": "e6850603-524a-4afc-a7a1-cba3eeeea1ec",
   "metadata": {},
   "outputs": [],
   "source": [
    "%load_ext autoreload\n",
    "%autoreload 2"
   ]
  },
  {
   "cell_type": "code",
   "execution_count": 3,
   "id": "5e136158-e12c-4d15-9c47-3cd726054a71",
   "metadata": {},
   "outputs": [],
   "source": [
    "import sys; sys.path.append('../Modles and Modeling/src')\n",
    "import numpy as np\n",
    "import plotly_express as px"
   ]
  },
  {
   "cell_type": "code",
   "execution_count": 4,
   "id": "b53824c3-ccb9-4f1b-9420-bb0b57509862",
   "metadata": {},
   "outputs": [],
   "source": [
    "import pandas as pd\n",
    "import ipywidgets as widgets"
   ]
  },
  {
   "cell_type": "code",
   "execution_count": 5,
   "id": "da0716a6-a156-49a2-83d2-24d5ef36af3a",
   "metadata": {},
   "outputs": [],
   "source": [
    "from datasets import make_circles_dataframe, make_moons_dataframe"
   ]
  },
  {
   "cell_type": "code",
   "execution_count": null,
   "id": "89654fbb-1737-4979-9d5f-dbc315b8e929",
   "metadata": {},
   "outputs": [],
   "source": []
  },
  {
   "cell_type": "markdown",
   "id": "513df470-6d24-4611-9fe8-61c25397763a",
   "metadata": {},
   "source": [
    "## Fitting and Overfiting "
   ]
  },
  {
   "cell_type": "markdown",
   "id": "2d1e502f-4b12-4bf1-a981-7135b36e0830",
   "metadata": {},
   "source": [
    "The goal of the following exercise is to:\n",
    "* Observe overfitting due to insuffient data\n",
    "* Observe Overfitting due to overly complex model\n",
    "* Identify the overfitting point by looking at Train vs Test error dynamic\n",
    "* Observe how noise levels effect the needed data samples and model capacity"
   ]
  },
  {
   "cell_type": "markdown",
   "id": "c80b1cdc-fcfb-4ac7-841c-a5a534d569cd",
   "metadata": {},
   "source": [
    "To do so, you'll code an experiment in the first part, and analyze the experiment result in the second part."
   ]
  },
  {
   "cell_type": "markdown",
   "id": "95f343cc-0b25-4302-ab24-fc290c07b6ee",
   "metadata": {},
   "source": [
    "### Building an experiment"
   ]
  },
  {
   "cell_type": "markdown",
   "id": "0e2a17e0-fb6f-479c-98bb-e5a6fc81e1ad",
   "metadata": {},
   "source": [
    "Code:\n",
    "\n",
    "1. Create data of size N with noise level of magnitude NL from datasets DS_NAME. \n",
    "1. Split it to training and validation data (no need for test set), use 80%-20%. \n",
    "1. Use Logistic regression and Choose one complex model of your choice: [KNN](https://scikit-learn.org/stable/modules/generated/sklearn.neighbors.KNeighborsClassifier.html), [SVM with RBF kernel](https://scikit-learn.org/stable/modules/svm.html) with different `gamma` values or [Random forest classifier](https://scikit-learn.org/stable/modules/generated/sklearn.ensemble.RandomForestClassifier.html) with differnt number of `min_samples_split`. \n",
    "1. Train on the train set for different hyper parameter values. compute:\n",
    "   1. Classification accuracy on the training set (TRE)\n",
    "   1. Classification accuracy on the validation set (TESTE)\n",
    "   1. The difference beteen the two above (E_DIFF)\n",
    "1. Save DS_NAME, N, NL, CLF_NAME, K, TRE, TESTE, E_DIFF and the regularization/hyper param (K, gamma or min_samples_split and regularization value for the linear regression classifier)\n",
    "\n",
    "Repeat for:\n",
    "* DS_NAME in Moons, Circles\n",
    "* N (number of samples) in [5, 10, 50, 100, 1000, 10000]\n",
    "* NL (noise level) in [0, 0.1, 0.2, 0.3, 0.4, 0.5]\n",
    "* For the complex model: 10 Values of hyper parameter of the complex model you've chosen.\n",
    "* For the linear model: 5 values of ridge (l2) regularization - [0.001, 0.01, 0.1, 1, 10, 100, 1000]"
   ]
  },
  {
   "cell_type": "markdown",
   "id": "ed7e0146-9c7a-4cf1-a83e-da9a11bcc796",
   "metadata": {},
   "source": [
    "### Analysing the expermient results"
   ]
  },
  {
   "cell_type": "markdown",
   "id": "0f39e9c4-0332-4564-a674-52b99332ecfd",
   "metadata": {},
   "source": [
    "1. For SVM only, For dataset of size 10k and for each dataset, What are the best model params? How stable is it? \n",
    "1. For SVM only, For dataset of size 10k and for each dataset, What is the most stable model and model params? How good is it in comparison to other models? Explain using bias and variance terminoligy.\n",
    "1. Does regularization help for linear models? consider different datasets sizes. \n",
    "1. For a given noise level of your chioce, How does the train, test and difference error changes with increasing data sizes? (answer for svm and LR seperatly)\n",
    "1. For a given noise level of your chioce, How does the train, test and difference error changes with increasing model complexity? (answer for svm and LR seperatly)\n",
    "1. Are the noise level effect the number of datapoints needed to reach optimal test results? "
   ]
  },
  {
   "cell_type": "markdown",
   "id": "237fa350-4106-419c-9020-51986a0a716d",
   "metadata": {},
   "source": [
    "Bonus:\n",
    "\n",
    "* For SVM: Select one dataset and with 0.2 noise level. Identify the optimal model params, and visualize the decision boundry learned. \n",
    "  * Hint: Use a grid. See classification models notebook "
   ]
  },
  {
   "cell_type": "markdown",
   "id": "e8bf7262-12b1-4417-acd2-eb8365b04b11",
   "metadata": {},
   "source": [
    "## Tips and Hints"
   ]
  },
  {
   "cell_type": "markdown",
   "id": "aca4522e-a8e9-4476-90ac-d1a2679085f4",
   "metadata": {},
   "source": [
    "For buliding the experiment:\n",
    "\n",
    "* Start with one dataframe holding all the data for both datastes with different noise level. Use the `make_<dataset_name>_dataframe()` functions below, and add two columns, dataset_name and noise_level, before appending the new dataset to the rest of the datasets. Use `df = pd.DataFrame()` to start with an empty dataframe and using a loop, add data to it using `df = df.append(<the needed df here>)`. Verify that you have 10k samples for each dataset type and noise level by a proper `.value_counts()`. You can modify the \n",
    "* When you'll need an N samples data with a specific noise level, use `query()` and `head(n)` to get the needed dataset. \n",
    "* Use sklearn `train_test_split()` method to split the data with `test_size` and `random_state` parameters set correctly to ensure you are always splitting the data the same why for a given fold `k`. Read [the docs](https://scikit-learn.org/stable/modules/generated/sklearn.model_selection.train_test_split.html) if needed. \n",
    "* You can also not create your own data splitter, and instead use `model_selection.cross_validate()` from sklearn. You'll need to ask for the train erros as well as the test errors, see [here](https://scikit-learn.org/stable/modules/generated/sklearn.model_selection.cross_validate.html).\n",
    "* Use prints in proper location to ensure the progress of the experiment. "
   ]
  },
  {
   "cell_type": "markdown",
   "id": "b4f130c6-62ba-4490-983d-1d63470dc615",
   "metadata": {},
   "source": [
    "**If you get stuck, and need refernce, scroll to the end of the notebook to see more hints!**"
   ]
  },
  {
   "cell_type": "markdown",
   "id": "ad8ffe8f-8c0b-4dc3-9cc2-9c3dc02852d7",
   "metadata": {},
   "source": [
    "## Moons dataset"
   ]
  },
  {
   "cell_type": "code",
   "execution_count": 6,
   "id": "7a6b4c61-454e-4887-963f-61d5ec6bc19f",
   "metadata": {},
   "outputs": [],
   "source": [
    "from sklearn.datasets import make_moons"
   ]
  },
  {
   "cell_type": "code",
   "execution_count": 7,
   "id": "7392ae8f-32a7-4c77-a5be-34043ecd09ec",
   "metadata": {},
   "outputs": [
    {
     "data": {
      "text/html": [
       "<div>\n",
       "<style scoped>\n",
       "    .dataframe tbody tr th:only-of-type {\n",
       "        vertical-align: middle;\n",
       "    }\n",
       "\n",
       "    .dataframe tbody tr th {\n",
       "        vertical-align: top;\n",
       "    }\n",
       "\n",
       "    .dataframe thead th {\n",
       "        text-align: right;\n",
       "    }\n",
       "</style>\n",
       "<table border=\"1\" class=\"dataframe\">\n",
       "  <thead>\n",
       "    <tr style=\"text-align: right;\">\n",
       "      <th></th>\n",
       "      <th>x</th>\n",
       "      <th>y</th>\n",
       "      <th>label</th>\n",
       "    </tr>\n",
       "  </thead>\n",
       "  <tbody>\n",
       "    <tr>\n",
       "      <th>0</th>\n",
       "      <td>-0.815277</td>\n",
       "      <td>0.481594</td>\n",
       "      <td>A</td>\n",
       "    </tr>\n",
       "    <tr>\n",
       "      <th>1</th>\n",
       "      <td>0.593989</td>\n",
       "      <td>-0.227605</td>\n",
       "      <td>B</td>\n",
       "    </tr>\n",
       "    <tr>\n",
       "      <th>2</th>\n",
       "      <td>0.194304</td>\n",
       "      <td>0.108145</td>\n",
       "      <td>B</td>\n",
       "    </tr>\n",
       "    <tr>\n",
       "      <th>3</th>\n",
       "      <td>0.121799</td>\n",
       "      <td>0.308393</td>\n",
       "      <td>B</td>\n",
       "    </tr>\n",
       "    <tr>\n",
       "      <th>4</th>\n",
       "      <td>-0.517474</td>\n",
       "      <td>0.603071</td>\n",
       "      <td>A</td>\n",
       "    </tr>\n",
       "  </tbody>\n",
       "</table>\n",
       "</div>"
      ],
      "text/plain": [
       "          x         y label\n",
       "0 -0.815277  0.481594     A\n",
       "1  0.593989 -0.227605     B\n",
       "2  0.194304  0.108145     B\n",
       "3  0.121799  0.308393     B\n",
       "4 -0.517474  0.603071     A"
      ]
     },
     "execution_count": 7,
     "metadata": {},
     "output_type": "execute_result"
    }
   ],
   "source": [
    "moons_df = make_moons_dataframe(n_samples=1000, noise_level=0.1)\n",
    "moons_df.head()"
   ]
  },
  {
   "cell_type": "code",
   "execution_count": 8,
   "id": "48c4d95c-3cad-4596-a8b3-29d67aa9859c",
   "metadata": {},
   "outputs": [
    {
     "data": {
      "application/vnd.jupyter.widget-view+json": {
       "model_id": "b434b11684f74a7ca3e984d4efcfc26e",
       "version_major": 2,
       "version_minor": 0
      },
      "text/plain": [
       "interactive(children=(FloatSlider(value=0.0, description='noise_level', max=0.5, step=0.05), Output()), _dom_c…"
      ]
     },
     "metadata": {},
     "output_type": "display_data"
    }
   ],
   "source": [
    "@widgets.interact\n",
    "def plot_noisy_moons(noise_level = widgets.FloatSlider(value=0, min=0, max=0.5, step=0.05)):\n",
    "    moons_df = make_moons_dataframe(n_samples=1000, noise_level=noise_level)\n",
    "    return px.scatter(moons_df, x='x', y='y', color = 'label')"
   ]
  },
  {
   "cell_type": "markdown",
   "id": "a3299f00-00b8-4703-8568-35de2913a487",
   "metadata": {},
   "source": [
    "## Circles Dataset"
   ]
  },
  {
   "cell_type": "code",
   "execution_count": 9,
   "id": "14b1498d-60e1-429e-a122-f120f5ed5720",
   "metadata": {},
   "outputs": [
    {
     "data": {
      "text/html": [
       "<div>\n",
       "<style scoped>\n",
       "    .dataframe tbody tr th:only-of-type {\n",
       "        vertical-align: middle;\n",
       "    }\n",
       "\n",
       "    .dataframe tbody tr th {\n",
       "        vertical-align: top;\n",
       "    }\n",
       "\n",
       "    .dataframe thead th {\n",
       "        text-align: right;\n",
       "    }\n",
       "</style>\n",
       "<table border=\"1\" class=\"dataframe\">\n",
       "  <thead>\n",
       "    <tr style=\"text-align: right;\">\n",
       "      <th></th>\n",
       "      <th>x</th>\n",
       "      <th>y</th>\n",
       "      <th>label</th>\n",
       "    </tr>\n",
       "  </thead>\n",
       "  <tbody>\n",
       "    <tr>\n",
       "      <th>0</th>\n",
       "      <td>-0.509939</td>\n",
       "      <td>0.616411</td>\n",
       "      <td>B</td>\n",
       "    </tr>\n",
       "    <tr>\n",
       "      <th>1</th>\n",
       "      <td>-0.070281</td>\n",
       "      <td>-0.796907</td>\n",
       "      <td>B</td>\n",
       "    </tr>\n",
       "    <tr>\n",
       "      <th>2</th>\n",
       "      <td>0.062791</td>\n",
       "      <td>0.998027</td>\n",
       "      <td>A</td>\n",
       "    </tr>\n",
       "    <tr>\n",
       "      <th>3</th>\n",
       "      <td>0.999684</td>\n",
       "      <td>-0.025130</td>\n",
       "      <td>A</td>\n",
       "    </tr>\n",
       "    <tr>\n",
       "      <th>4</th>\n",
       "      <td>-0.149905</td>\n",
       "      <td>0.785830</td>\n",
       "      <td>B</td>\n",
       "    </tr>\n",
       "  </tbody>\n",
       "</table>\n",
       "</div>"
      ],
      "text/plain": [
       "          x         y label\n",
       "0 -0.509939  0.616411     B\n",
       "1 -0.070281 -0.796907     B\n",
       "2  0.062791  0.998027     A\n",
       "3  0.999684 -0.025130     A\n",
       "4 -0.149905  0.785830     B"
      ]
     },
     "execution_count": 9,
     "metadata": {},
     "output_type": "execute_result"
    }
   ],
   "source": [
    "circles_df = make_circles_dataframe(n_samples=500, noise_level=0)\n",
    "circles_df.head()"
   ]
  },
  {
   "cell_type": "code",
   "execution_count": 10,
   "id": "52ef522a-e381-42e1-b321-31b3d2f3b0de",
   "metadata": {},
   "outputs": [
    {
     "data": {
      "application/vnd.jupyter.widget-view+json": {
       "model_id": "8d280b0b5f7844aaadbb41c394d5e84a",
       "version_major": 2,
       "version_minor": 0
      },
      "text/plain": [
       "interactive(children=(FloatSlider(value=0.0, description='noise_level', max=0.5, step=0.05), Output()), _dom_c…"
      ]
     },
     "metadata": {},
     "output_type": "display_data"
    }
   ],
   "source": [
    "@widgets.interact\n",
    "def plot_noisy_circles(noise_level = widgets.FloatSlider(value=0, min=0, max=0.5, step=0.05)):\n",
    "    df = make_circles_dataframe(1000, noise_level)\n",
    "    return px.scatter(df, x='x', y='y', color = 'label')"
   ]
  },
  {
   "cell_type": "markdown",
   "id": "80e9225a-7608-4425-af81-1eec31104968",
   "metadata": {},
   "source": [
    "## Solution:"
   ]
  },
  {
   "cell_type": "code",
   "execution_count": 11,
   "id": "045326d6-f3aa-4d7c-8ebd-af8a51ce8388",
   "metadata": {},
   "outputs": [],
   "source": [
    "from sklearn.linear_model import LogisticRegression\n",
    "from sklearn import svm\n",
    "from itertools import product\n",
    "from random import shuffle"
   ]
  },
  {
   "cell_type": "code",
   "execution_count": 12,
   "id": "23027e23-37ff-485b-88b1-70feff6e92e8",
   "metadata": {},
   "outputs": [],
   "source": [
    "def split_data(data):\n",
    "    \"\"\"\n",
    "    Randomly split the input data into 2 sets: Train set, and Validation set.\n",
    "    \n",
    "    data : pandas DataFrame\n",
    "    \n",
    "    return:\n",
    "    train_data : pandas DataFrame\n",
    "    valid_data : pandas DataFrame\n",
    "    \"\"\"\n",
    "    n = data.shape[0]\n",
    "    data = data.copy().sample(n) # Randomized copy\n",
    "    data = data.reset_index(drop=True) # \"Forget\" original index order, and reindex based on random order.\n",
    "                              \n",
    "    n_train = np.round(n*0.8)\n",
    "    # n_valid = n - n_train  # ~20%\n",
    "    mask = data.index < n_train                          \n",
    "    \n",
    "    train_data = data.loc[mask,:]\n",
    "    valid_data = data.loc[~mask,:]\n",
    "\n",
    "    return train_data, valid_data"
   ]
  },
  {
   "cell_type": "markdown",
   "id": "26be1776-59b0-414a-a52e-f1066560593b",
   "metadata": {},
   "source": [
    "Note: for some reason, section 4.A and 4.B ask for the \"accuracy\" with the misnomer TRE / TESTE.\n",
    "It would make more sense to ask for the training ERROR and the test ERROR, but following this exercise instructions, the accoracies will be reported.\n",
    "\n",
    "4A Classification accuracy on the training set (TRE)\n",
    "\n",
    "4B Classification accuracy on the validation set (TESTE)"
   ]
  },
  {
   "cell_type": "code",
   "execution_count": 13,
   "id": "92e5477f-1342-4e2c-b8ba-01daa6361a0a",
   "metadata": {},
   "outputs": [
    {
     "name": "stdout",
     "output_type": "stream",
     "text": [
      "Empty summary df:\n"
     ]
    },
    {
     "data": {
      "text/html": [
       "<div>\n",
       "<style scoped>\n",
       "    .dataframe tbody tr th:only-of-type {\n",
       "        vertical-align: middle;\n",
       "    }\n",
       "\n",
       "    .dataframe tbody tr th {\n",
       "        vertical-align: top;\n",
       "    }\n",
       "\n",
       "    .dataframe thead th {\n",
       "        text-align: right;\n",
       "    }\n",
       "</style>\n",
       "<table border=\"1\" class=\"dataframe\">\n",
       "  <thead>\n",
       "    <tr style=\"text-align: right;\">\n",
       "      <th></th>\n",
       "      <th>DS_NAME</th>\n",
       "      <th>N</th>\n",
       "      <th>NL</th>\n",
       "      <th>CLF_NAME</th>\n",
       "      <th>K</th>\n",
       "      <th>Hyperparameter</th>\n",
       "      <th>TRE</th>\n",
       "      <th>TESTE</th>\n",
       "      <th>E_DIFF</th>\n",
       "      <th>TR_ACC</th>\n",
       "      <th>TEST_ACC</th>\n",
       "      <th>ACC_DIFF</th>\n",
       "    </tr>\n",
       "  </thead>\n",
       "  <tbody>\n",
       "  </tbody>\n",
       "</table>\n",
       "</div>"
      ],
      "text/plain": [
       "Empty DataFrame\n",
       "Columns: [DS_NAME, N, NL, CLF_NAME, K, Hyperparameter, TRE, TESTE, E_DIFF, TR_ACC, TEST_ACC, ACC_DIFF]\n",
       "Index: []"
      ]
     },
     "execution_count": 13,
     "metadata": {},
     "output_type": "execute_result"
    }
   ],
   "source": [
    "cols = [\"DS_NAME\", \"N\", \"NL\", \"CLF_NAME\", \"K\", \"Hyperparameter\", \"TRE\", \"TESTE\", \"E_DIFF\",  \"TR_ACC\", \"TEST_ACC\", \"ACC_DIFF\"]\n",
    "# DS_NAME, N, NL, CLF_NAME, k, Hyperparameter, TRE, TESTE, E_DIFF, TR_ACC, TEST_ACC, ACC_DIFF\n",
    "\n",
    "df = pd.DataFrame(columns=cols)\n",
    "print(\"Empty summary df:\")\n",
    "df"
   ]
  },
  {
   "cell_type": "markdown",
   "id": "14d7604c-73f9-4931-95fd-727ecdf563b3",
   "metadata": {},
   "source": [
    "Models characteristics:"
   ]
  },
  {
   "cell_type": "markdown",
   "id": "74dd009f-fbef-497a-9b5e-cf0a63779d27",
   "metadata": {},
   "source": [
    "DS_NAME in Moons, Circles\n",
    "N (number of samples) in [5, 10, 50, 100, 1000, 10000]\n",
    "NL (noise level) in [0, 0.1, 0.2, 0.3, 0.4, 0.5]\n",
    "For the complex model: 10 Values of hyper parameter of the complex model you've chosen.\n",
    "For the linear model: 5 values of ridge (l2) regularization - [0.001, 0.01, 0.1, 1, 10, 100, 1000]"
   ]
  },
  {
   "cell_type": "code",
   "execution_count": 14,
   "id": "1576558c-1e0f-4507-ab47-89bd90753e92",
   "metadata": {},
   "outputs": [],
   "source": [
    "N = [5, 10, 50, 100, 1000, 10000]\n",
    "NL = [0, 0.1, 0.2, 0.3, 0.4, 0.5]\n",
    "DS_NAME = [\"Moons\", \"Circles\"]\n",
    "CLF_NAME = [\"LogisticRegression\", \"SVM\"]\n",
    "Hyperparameter = [0.001, 0.01, 0.1, 1, 10, 100, 1000]\n",
    "k_folds = 10\n",
    "K = [k for k in range(k_folds)]\n",
    "\n",
    "models_ls = list(product(N, NL, DS_NAME, CLF_NAME, K, Hyperparameter))"
   ]
  },
  {
   "cell_type": "code",
   "execution_count": 15,
   "id": "6cde19b3-e6e5-41b1-aacf-884283cff36f",
   "metadata": {},
   "outputs": [],
   "source": [
    "# idx_ls = list(np.random.randint(low=0, high=len(models_ls),size=5))\n",
    "# print(\"\\nExamples for (N, NL, DS_NAME, CLF_NAME, Hyperparameter):\\n\")\n",
    "# for idx in idx_ls:\n",
    "#     print(models_ls[idx])"
   ]
  },
  {
   "cell_type": "code",
   "execution_count": 16,
   "id": "0f2487c7-56c1-4b0d-9f91-efce8c81d758",
   "metadata": {},
   "outputs": [
    {
     "name": "stdout",
     "output_type": "stream",
     "text": [
      "\n",
      "Examples for (N, NL, DS_NAME, CLF_NAME, Hyperparameter):\n",
      "\n"
     ]
    }
   ],
   "source": [
    "# shuffle(models_ls) # for better progress report\n",
    "print(\"\\nExamples for (N, NL, DS_NAME, CLF_NAME, Hyperparameter):\\n\")\n",
    "# models_ls = models_ls[:5]\n",
    "# models_ls = models_ls[:5]"
   ]
  },
  {
   "cell_type": "code",
   "execution_count": 17,
   "id": "b293c0cc-7408-4ca0-8d0e-a9aff2452176",
   "metadata": {},
   "outputs": [
    {
     "data": {
      "text/plain": [
       "10080"
      ]
     },
     "execution_count": 17,
     "metadata": {},
     "output_type": "execute_result"
    }
   ],
   "source": [
    "len(models_ls)"
   ]
  },
  {
   "cell_type": "markdown",
   "id": "1a57489e-76fc-49c7-80da-bd4fc5a7f4ca",
   "metadata": {},
   "source": [
    "Learning process:"
   ]
  },
  {
   "cell_type": "code",
   "execution_count": null,
   "id": "36a12b51-ee01-411b-a1a5-6b6aac411cab",
   "metadata": {},
   "outputs": [
    {
     "name": "stdout",
     "output_type": "stream",
     "text": [
      "Current progress: 95.14%\n",
      "Current progress: 95.3%\n",
      "Current progress: 95.46%\n"
     ]
    }
   ],
   "source": [
    "# cols = [\"DS_NAME\", \"N\", \"NL\", \"CLF_NAME\", \"Hyperparameter\", \"TRE\", \"TESTE\", \"E_DIFF\"]\n",
    "df = pd.DataFrame(columns=cols)\n",
    "\n",
    "last_iter = None\n",
    "last_save = None\n",
    "# k_folds = 10\n",
    "# print(\"Processing...\")\n",
    "# def calculate_model(model_params):\n",
    "#     print(\"Processing...\")\n",
    "#     N, NL, DS_NAME, CLF_NAME, Hyperparameter = model_params\n",
    "for iteration, (N, NL, DS_NAME, CLF_NAME, k, Hyperparameter) in enumerate(models_ls):\n",
    "#     TRE, TESTE, E_DIFF = [None]*3\n",
    "    # break # already saved in excel\n",
    "\n",
    "    if iteration < 9590:\n",
    "        continue\n",
    "    # Create the data\n",
    "    if DS_NAME==\"Moons\":\n",
    "        data = make_moons_dataframe(n_samples=N, noise_level=NL)\n",
    "    elif DS_NAME==\"Circles\":\n",
    "        data = make_circles_dataframe(n_samples=N, noise_level=NL)\n",
    "    # else:\n",
    "    #     data = create_data(N=N, NL=NL, DS_NAME=DS_NAME)\n",
    "\n",
    "    # print(\"Sample of\",DS_NAME.__repr__,\":\")\n",
    "    # display(data.head())\n",
    "\n",
    "    # Split the data:\n",
    "    train_data, valid_data = split_data(data)\n",
    "\n",
    "    if CLF_NAME==\"LogisticRegression\":\n",
    "        # Apply Logistic Regression:\n",
    "        log_reg = LogisticRegression(penalty='l2', C=Hyperparameter)\n",
    "        log_reg.fit(train_data[['x','y']], train_data['label'])\n",
    "\n",
    "        # Retrieve the model parameters.\n",
    "        # b = log_reg.intercept_[0]\n",
    "        # w1, w2 = log_reg.coef_[0]\n",
    "\n",
    "        # Calculate the intercept and gradient of the decision boundary.\n",
    "        # c = -b/w2\n",
    "        # m = -w1/w2\n",
    "\n",
    "        # Predict train_data:\n",
    "        train_data['predicted_label'] = log_reg.predict(train_data[['x','y']])\n",
    "        # train_data[['prob_A','prob_B']] = log_reg.predict_proba(train_data[['x','y']])\n",
    "        # train_data['log_regression_value'] = train_data.x.apply(lambda x: m*x + c)\n",
    "\n",
    "        # Predict valid_data:\n",
    "        valid_data['predicted_label'] = log_reg.predict(valid_data[['x','y']])\n",
    "        # valid_data[['prob_A','prob_B']] = log_reg.predict_proba(valid_data[['x','y']])\n",
    "        # valid_data['log_regression_value'] = valid_data.x.apply(lambda x: m*x + c)\n",
    "\n",
    "    elif CLF_NAME==\"SVM\":\n",
    "        svm_clf = svm.SVC(kernel='poly', degree=2, gamma=Hyperparameter) # kernels availble: 'linear', 'poly', 'rbf'\n",
    "        svm_clf.fit(train_data[['x','y']], train_data['label'])\n",
    "        # continue implementation of SVM\n",
    "        # Predict train_data:\n",
    "        train_data['predicted_label'] = svm_clf.predict(train_data[['x','y']])\n",
    "        # train_data[['prob_A','prob_B']] = svm_clf.predict_proba(train_data[['x','y']])\n",
    "        # train_data['log_regression_value'] = train_data.x.apply(lambda x: m*x + c)\n",
    "\n",
    "        # Predict valid_data:\n",
    "        valid_data['predicted_label'] = svm_clf.predict(valid_data[['x','y']])\n",
    "        # valid_data[['prob_A','prob_B']] = svm_clf.predict_proba(valid_data[['x','y']])\n",
    "        # valid_data['log_regression_value'] = valid_data.x.apply(lambda x: m*x + c)\n",
    "\n",
    "\n",
    "    # Calculate performance:\n",
    "    train_data[\"correct_prediction\"] = train_data.label == train_data.predicted_label\n",
    "    TR_ACC = np.mean(train_data.loc[:,\"correct_prediction\"]) # TRain set accuracy\n",
    "    TRE = 0 # len(train_data.loc[:,\"correct_prediction\"]) - np.sum(train_data.loc[:,\"correct_prediction\"]) # TRain set Error\n",
    "    \n",
    "    valid_data[\"correct_prediction\"] = valid_data.label == valid_data.predicted_label\n",
    "    TEST_ACC = np.mean(valid_data.loc[:,\"correct_prediction\"]) # Validation (test) set accuracy\n",
    "    TESTE = 0 #len(valid_data.loc[:,\"correct_prediction\"]) - np.sum(valid_data.loc[:,\"correct_prediction\"]) # Validation (test) set Error\n",
    "    \n",
    "    ACC_DIFF = 0 # np.abs(TR_ACC - TEST_ACC)\n",
    "    E_DIFF = 0 #np.abs(TESTE - TRE)\n",
    "\n",
    "    # Report:\n",
    "    # print(f\"\\nResults of {CLF_NAME} on {DS_NAME}:\")\n",
    "    # print(f\"E_DIFF = {E_DIFF}  \\nTESTE = {TESTE} \\nTRE = {TRE}\")\n",
    "    # perf_dic = {DS_NAME:\"DS_NAME\", N:\"N\", NL:\"NL\", CLF_NAME:\"CLF_NAME\", Hyperparameter:\"Hyperparameter\", TRE:\"TRE\", TESTE:\"TESTE\", E_DIFF:\"E_DIFF\"}\n",
    "    # for val in perf_dic:\n",
    "        # df.loc[iteration, perf_dic[val]] = val\n",
    "    ser = pd.Series([DS_NAME, N, NL, CLF_NAME, k, Hyperparameter, TRE, TESTE, E_DIFF, TR_ACC, TEST_ACC, ACC_DIFF],index=cols)\n",
    "    df.loc[df.shape[0],:] = ser\n",
    "\n",
    "    # print(\"\\nUpdated df:\")\n",
    "    # display(df)\n",
    "\n",
    "    if last_iter == None or iteration > 15+last_iter:\n",
    "        last_iter = iteration\n",
    "        current = round(100*iteration/len(models_ls),2)\n",
    "        print(f\"Current progress: {current}%\")\n",
    "        df.to_excel(\"summary_df_\"+str(round(100*iteration/len(models_ls)))+\".xlsx\")\n",
    "        # if last_save==None and iteration > len(models_ls)/5:\n",
    "        #     last_save = iteration\n",
    "        #     df.to_excel(\"summary_df_\"+str(round(100*iteration/len(models_ls)))+\".xlsx\")\n",
    "        # elif last_save is not None and iteration > last_save+len(models_ls)/20:\n",
    "        #     df.to_excel(\"summary_df_\"+str(round(100*iteration/len(models_ls)))+\".xlsx\")\n",
    "\n",
    "    # return None\n",
    "display(df)\n",
    "df.to_excel(\"summary_df.xlsx\")"
   ]
  },
  {
   "cell_type": "code",
   "execution_count": null,
   "id": "d2ef67e6-3164-442a-a550-f3bdc59b149a",
   "metadata": {},
   "outputs": [],
   "source": [
    "raise ValueError\n",
    "\n",
    "# df.to_excel(\"summary_df.xlsx\")\n",
    "\n",
    "# Load pre-saved df from Excel:\n",
    "# df = pd.read_excel(\"summary_df_91_8pm_2404.xlsx\", index_col=0) # Unfortunately, only 91% of the models were saved (PC broke before it finished)\n",
    "df_res = pd.read_csv(r\"C:\\Users\\hagai\\Desktop\\Uriel\\cv_df.csv\")\n",
    "df_res = df_res.replace({\"circles\":\"Circles\", \"moons\":\"Moons\", \"log_reg\":\"LogisticRegression\", \"svm\":\"SVM\"})\n",
    "df_res = df_res.rename(columns={\"HP\":\"Hyperparameter\"})\n",
    "display(df_res)"
   ]
  },
  {
   "cell_type": "code",
   "execution_count": null,
   "id": "c9719c73-ef96-402c-9336-b7faa4ab7816",
   "metadata": {},
   "outputs": [],
   "source": [
    "# df[:50]"
   ]
  },
  {
   "cell_type": "code",
   "execution_count": null,
   "id": "f419a297-249a-4525-bdf9-88a29f1e0700",
   "metadata": {},
   "outputs": [],
   "source": [
    "df_mean = df_res.groupby([\"DS_NAME\", \"N\",\"CLF_NAME\", \"NL\", \"Hyperparameter\"])[[\"TRE\", \"TESTE\", \"E_DIFF\"]].mean()\n",
    "df_mean = df_mean.rename(columns=lambda x: x+\"_mean\")\n",
    "df_std = df_res.groupby([\"DS_NAME\", \"N\", \"CLF_NAME\", \"NL\", \"Hyperparameter\"])[[\"TRE\", \"TESTE\", \"E_DIFF\"]].std()\n",
    "df_std = df_std.rename(columns=lambda x: x+\"_std\")\n",
    "df_std\n",
    "df = pd.concat([df_mean, df_std], axis=1)\n",
    "df.tail(60)"
   ]
  },
  {
   "cell_type": "code",
   "execution_count": null,
   "id": "14b5976c-b2d9-44eb-a728-fb1119e819c7",
   "metadata": {},
   "outputs": [],
   "source": [
    "# 1. For SVM only, For dataset of size 10k and for each dataset, What are the best model params? How stable is it?\n",
    "moons_q1 = df.loc[(\"Moons\",\"10000\",\"SVM\"),:]\n",
    "moons_q1 = moons_q1.reset_index()\n",
    "moons_q1.head(5)"
   ]
  },
  {
   "cell_type": "code",
   "execution_count": null,
   "id": "6d352e3c-a314-4345-9af0-6cc867b51761",
   "metadata": {},
   "outputs": [],
   "source": [
    "fig_m1 = px.line(x=moons_q1.Hyperparameter, y=[moons_q1.TRE_mean, moons_q1.TESTE_mean], facet_col=moons_q1.NL, log_x=True,\n",
    "              labels={\"x\":\"gamma\", \"value\":\"Accuracy\", \"facet_col\":\"Noise level\", \"variable\":\"Accuracy\", \"wide_variable_0\":\"TRE\", \"wide_variable_1\":\"TESTE\"},\n",
    "              title=\"Moons at n=10k<br>Accuracy for gamma (log axis) in each noise level\")\n",
    "fig_m1.update_layout(title_x=0.5)\n",
    "fig_m1.show()"
   ]
  },
  {
   "cell_type": "code",
   "execution_count": null,
   "id": "4496275b-200b-48d5-a2a3-8aa317a15907",
   "metadata": {},
   "outputs": [],
   "source": []
  },
  {
   "cell_type": "code",
   "execution_count": null,
   "id": "29e88390-d619-4d30-bdfb-8ef0883a6967",
   "metadata": {},
   "outputs": [],
   "source": []
  },
  {
   "cell_type": "code",
   "execution_count": null,
   "id": "ec6b038c-8b87-4976-a6e4-4114fb0149c5",
   "metadata": {},
   "outputs": [],
   "source": []
  },
  {
   "cell_type": "code",
   "execution_count": null,
   "id": "a1952626-cc55-4be8-bf9a-173e37211eb9",
   "metadata": {},
   "outputs": [],
   "source": []
  },
  {
   "cell_type": "code",
   "execution_count": null,
   "id": "1a483de7-4873-4d3f-a68d-f6ee3a54a895",
   "metadata": {},
   "outputs": [],
   "source": []
  },
  {
   "cell_type": "markdown",
   "id": "7c0938b8-4a4a-481c-b65a-5ae989c4f968",
   "metadata": {},
   "source": [
    "A to Q1:"
   ]
  },
  {
   "cell_type": "code",
   "execution_count": null,
   "id": "a48e38fc-bd42-41ab-8c83-78d087ec201e",
   "metadata": {},
   "outputs": [],
   "source": [
    "# 1. For SVM only, For dataset of size 10k and for each dataset, What are the best model params? How stable is it?\n",
    "\n",
    "moons_q1 = df[(df.CLF_NAME==\"SVM\") & (df.N==10000) & (df.DS_NAME==\"Moons\")][[\"NL\", \"K\", \"Hyperparameter\", \"TRE\", \"TESTE\", \"E_DIFF\"]]\n",
    "display(moons_q1.head())\n",
    "\n",
    "\n",
    "fig_m1 = px.line(x=moons_q1.Hyperparameter, y=[moons_q1.TRE, moons_q1.TESTE], facet_col=moons_q1.NL, log_x=True, facet_row= moons_q1.K,\n",
    "              labels={\"x\":\"gamma\", \"value\":\"Accuracy\", \"facet_col\":\"Noise level\", \"variable\":\"Accuracy\", \"wide_variable_0\":\"TRE\", \"wide_variable_1\":\"TESTE\"},\n",
    "              title=\"Moons at n=10k<br>Accuracy for gamma (log axis) in each noise level\")\n",
    "fig_m1.update_layout(title_x=0.5)\n",
    "fig_m1.show()\n",
    "\n",
    "circles_q1 = df[(df.CLF_NAME==\"SVM\") & (df.N==10000) & (df.DS_NAME==\"Circles\")][[\"NL\", \"K\", \"Hyperparameter\", \"TRE\", \"TESTE\", \"E_DIFF\"]]\n",
    "display(circles_q1.head())\n",
    "\n",
    "\n",
    "fig_c1 = px.line(x=circles_q1.Hyperparameter, y=[circles_q1.TRE, circles_q1.TESTE], facet_col=circles_q1.NL, log_x=True, facet_row= circles_q1.K,\n",
    "              labels={\"x\":\"gamma\", \"value\":\"Accuracy\", \"facet_col\":\"Noise level\", \"variable\":\"Accuracy\", \"wide_variable_0\":\"TRE\", \"wide_variable_1\":\"TESTE\"},\n",
    "              title=\"Circles at n=10k<br>Accuracy for gamma (log axis) in each noise level\")\n",
    "fig_c1.update_layout(title_x=0.5)\n",
    "fig_c1.show()"
   ]
  },
  {
   "cell_type": "markdown",
   "id": "19ff530e-a6b2-4dfe-bf13-2fb071241977",
   "metadata": {},
   "source": [
    "A to Q1:\n",
    "Based on the data presented, in most cases, gamma around 1 (or above) gives the optimal results.\n",
    "It is hard to speak of stability without k-fold validation which yields the standard deviation of the performance measures."
   ]
  },
  {
   "cell_type": "markdown",
   "id": "c2c8592a-3490-472b-826e-6be9845ff6f3",
   "metadata": {},
   "source": [
    "A to Q2"
   ]
  },
  {
   "cell_type": "code",
   "execution_count": null,
   "id": "325e06cc-371a-4115-a13c-74cdc0cc48ee",
   "metadata": {},
   "outputs": [],
   "source": []
  },
  {
   "cell_type": "code",
   "execution_count": null,
   "id": "da672ea3-56f3-4365-b1bf-cb7dc91c9218",
   "metadata": {},
   "outputs": [],
   "source": []
  },
  {
   "cell_type": "markdown",
   "id": "a9f34095-5a4b-4a75-bd6a-64841d0b13ed",
   "metadata": {},
   "source": [
    "1. For SVM only, For dataset of size 10k and for each dataset, What are the best model params? How stable is it? \n",
    "1. For SVM only, For dataset of size 10k and for each dataset, What is the most stable model and model params? How good is it in comparison to other models? Explain using bias and variance terminoligy.\n",
    "1. Does regularization help for linear models? consider different datasets sizes. \n",
    "1. For a given noise level of your chioce, How does the train, test and difference error changes with increasing data sizes? (answer for svm and LR seperatly)\n",
    "1. For a given noise level of your chioce, How does the train, test and difference error changes with increasing model complexity? (answer for svm and LR seperatly)\n",
    "1. Are the noise level effect the number of datapoints needed to reach optimal test results? "
   ]
  },
  {
   "cell_type": "markdown",
   "id": "68124026-b4bc-4022-81ee-158175f9e732",
   "metadata": {},
   "source": [
    "## Appendix"
   ]
  },
  {
   "cell_type": "markdown",
   "id": "ac7c6e0b-b513-4bb7-b39e-ae3baa5b3e68",
   "metadata": {},
   "source": [
    "### More hints!"
   ]
  },
  {
   "cell_type": "markdown",
   "id": "c2ad0ce4-d598-4e30-ab43-dd9a064d8dd8",
   "metadata": {},
   "source": [
    "If you'll build the datasets dataframe correctly, you'll have **one** dataframe that has dataset_name and noise_level colmuns, as well as the regular x,y,label colmns. To unsure you've appended everything correctly, groupby the proper colmuns and look at the size:"
   ]
  },
  {
   "cell_type": "code",
   "execution_count": null,
   "id": "4b5d99fc-102f-4b04-8962-1e85e8909cee",
   "metadata": {},
   "outputs": [],
   "source": [
    "# Use proper groupby statement to ensure the datasets dataframe contains data as expected. You should see the following result:"
   ]
  },
  {
   "cell_type": "markdown",
   "id": "8f9e1094-232b-46f2-ba89-856e14fab58b",
   "metadata": {},
   "source": [
    "Your "
   ]
  },
  {
   "cell_type": "markdown",
   "id": "fc58ae49-7d87-462b-b681-61536ae4bca8",
   "metadata": {},
   "source": [
    "You experiment code should look something like that:"
   ]
  },
  {
   "cell_type": "code",
   "execution_count": null,
   "id": "6b6dca06-01af-437e-8eb1-d559cdb96741",
   "metadata": {},
   "outputs": [],
   "source": [
    "# datasets_type = ['circles', 'moons']\n",
    "# k_folds = 10\n",
    "# n_samples = [10, 50, 100, 1000, 10000]\n",
    "# noise_levels = [0, 0.1, 0.2, 0.3, 0.4, 0.5]\n",
    "# clf_types = ['log_reg', 'svm']\n",
    "# hp_range = <'Your hyper parameters ranges here'>\n",
    "# regularization_values = <'Your regularization values here'>\n",
    "# results = []\n",
    "# for ds_type in datasets_type:\n",
    "#     print(f'Working on {ds_type}')\n",
    "#     for nl in noise_levels:\n",
    "#         for n in n_samples:\n",
    "#             ds = datasets.query(<'your query here'>).head(n)\n",
    "#             print(f'Starting {k_folds}-fold cross validation for {ds_type} datasets with {n} samples and noise level {nl}. Going to train {clf_types} classifiers.')\n",
    "#             for k in range(k_folds):\n",
    "#                 X, Y = <'Your code here'>\n",
    "#                 x_train,x_test,y_train,y_test= <'Your code here'>\n",
    "#                 for clf_type in clf_types:\n",
    "#                     if clf_type == 'log_reg':\n",
    "#                         for regularization_value in regularization_values:\n",
    "#                             train_acc, test_acc = <'Your code here'>\n",
    "#                             results.append(<'Your code here'>)\n",
    "#                     if clf_type == 'svm':\n",
    "#                         for gamma in hp_range:\n",
    "#                             train_acc, test_acc = <'Your code here'>\n",
    "#                             results.append(<'Your code here'>)"
   ]
  },
  {
   "cell_type": "markdown",
   "id": "8c757d2e-c9dc-4ca8-ad10-1b5b0b518681",
   "metadata": {},
   "source": [
    "### Question 1 - Manual Classification"
   ]
  },
  {
   "cell_type": "markdown",
   "id": "be99abda-4f26-4331-90f3-4e95b971b70f",
   "metadata": {},
   "source": [
    "The purpose of this excercise is to examplify the need in a fitting algorithm. We will do so by trying to find only 2 models parameters by ourselves. "
   ]
  },
  {
   "cell_type": "code",
   "execution_count": null,
   "id": "98898c9c-d06c-49c1-a5c3-7dc5e7f9e787",
   "metadata": {},
   "outputs": [],
   "source": [
    "slope, intercept = 2.5, 6"
   ]
  },
  {
   "cell_type": "code",
   "execution_count": null,
   "id": "c507c069-f14a-41a7-a526-1627c7453687",
   "metadata": {},
   "outputs": [],
   "source": [
    "x_1, x_2 = 0.2, 0.6\n",
    "on_line = [[x, x*slope + intercept,'on_line'] for x in np.linspace(-1,2,100)]\n",
    "\n",
    "above_line = [[x_1, x_1*slope + intercept + 2, 'Above'], \n",
    "              [x_2, x_2*slope + intercept + 2, 'Above']] \n",
    "\n",
    "below_line = [[x_1, x_1*slope + intercept - 2, 'Below'], \n",
    "              [x_2, x_2*slope + intercept - 2, 'Below']] "
   ]
  },
  {
   "cell_type": "code",
   "execution_count": null,
   "id": "ad4ebc44-35aa-4d0a-b14f-4d0f96b8db6d",
   "metadata": {},
   "outputs": [],
   "source": [
    "columns = ['x','y','label']\n",
    "data = pd.DataFrame(on_line + above_line + below_line, columns = columns)"
   ]
  },
  {
   "cell_type": "code",
   "execution_count": null,
   "id": "7dcf258b-2747-49de-b575-5b0b4f4c436b",
   "metadata": {},
   "outputs": [],
   "source": [
    "px.scatter(data, x='x', y='y', color = 'label')"
   ]
  }
 ],
 "metadata": {
  "kernelspec": {
   "display_name": "Python 3 (ipykernel)",
   "language": "python",
   "name": "python3"
  },
  "language_info": {
   "codemirror_mode": {
    "name": "ipython",
    "version": 3
   },
   "file_extension": ".py",
   "mimetype": "text/x-python",
   "name": "python",
   "nbconvert_exporter": "python",
   "pygments_lexer": "ipython3",
   "version": "3.9.7"
  }
 },
 "nbformat": 4,
 "nbformat_minor": 5
}
